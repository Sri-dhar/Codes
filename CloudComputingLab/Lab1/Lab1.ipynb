{
 "cells": [
  {
   "cell_type": "markdown",
   "metadata": {},
   "source": [
    "Sridhar Tuli\n",
    "2201202"
   ]
  },
  {
   "cell_type": "markdown",
   "metadata": {},
   "source": [
    "# Question 1\n"
   ]
  },
  {
   "cell_type": "code",
   "execution_count": 39,
   "metadata": {},
   "outputs": [
    {
     "name": "stdout",
     "output_type": "stream",
     "text": [
      "['a', 'b', 'c']\n"
     ]
    }
   ],
   "source": [
    "input1 = \"abc\"\n",
    "output = []\n",
    "for i in input1:\n",
    "    output.append(i)\n",
    "print(output)"
   ]
  },
  {
   "cell_type": "markdown",
   "metadata": {},
   "source": [
    "# Question 2"
   ]
  },
  {
   "cell_type": "code",
   "execution_count": 40,
   "metadata": {},
   "outputs": [
    {
     "name": "stdout",
     "output_type": "stream",
     "text": [
      "abc\n"
     ]
    }
   ],
   "source": [
    "input1 = ['a','b','c']\n",
    "output = \"\"\n",
    "for i in input1:\n",
    "    output += i\n",
    "print(output)"
   ]
  },
  {
   "cell_type": "markdown",
   "metadata": {},
   "source": [
    "# Question 3"
   ]
  },
  {
   "cell_type": "code",
   "execution_count": 41,
   "metadata": {},
   "outputs": [
    {
     "name": "stdout",
     "output_type": "stream",
     "text": [
      "[58, 1, 91, 90, 86]\n"
     ]
    }
   ],
   "source": [
    "import random\n",
    "n = int(input(\"Enter the size of array: \"))\n",
    "arr = []\n",
    "for i in range(n):\n",
    "    arr.append(random.randint(1,100))\n",
    "print(arr)"
   ]
  },
  {
   "cell_type": "markdown",
   "metadata": {},
   "source": [
    "# Question 4"
   ]
  },
  {
   "cell_type": "code",
   "execution_count": 42,
   "metadata": {},
   "outputs": [
    {
     "name": "stdout",
     "output_type": "stream",
     "text": [
      "[5, 4, 3, 2, 1]\n"
     ]
    }
   ],
   "source": [
    "input1 = [1,2,3,4,5]\n",
    "output = sorted(input1, reverse=True)\n",
    "print(output)"
   ]
  },
  {
   "cell_type": "markdown",
   "metadata": {},
   "source": [
    "# Question 5"
   ]
  },
  {
   "cell_type": "code",
   "execution_count": 43,
   "metadata": {},
   "outputs": [
    {
     "name": "stdout",
     "output_type": "stream",
     "text": [
      "{1: 2, 3: 3, 2: 4}\n"
     ]
    }
   ],
   "source": [
    "input1 = [1,1,3,2,3,2,3,2,2]\n",
    "output = {}\n",
    "for i in input1:\n",
    "    if i in output:\n",
    "        output[i] += 1\n",
    "    else:\n",
    "        output[i] = 1\n",
    "\n",
    "print(output)"
   ]
  },
  {
   "cell_type": "markdown",
   "metadata": {},
   "source": [
    "# Question 6\n"
   ]
  },
  {
   "cell_type": "code",
   "execution_count": 44,
   "metadata": {},
   "outputs": [
    {
     "name": "stdout",
     "output_type": "stream",
     "text": [
      "{1, 2, 3}\n"
     ]
    }
   ],
   "source": [
    "input1 = [1,1,3,2,3,2,3,2,2]\n",
    "output = set(input1)\n",
    "print(output)"
   ]
  },
  {
   "cell_type": "markdown",
   "metadata": {},
   "source": [
    "# Question 7"
   ]
  },
  {
   "cell_type": "code",
   "execution_count": 45,
   "metadata": {},
   "outputs": [
    {
     "name": "stdout",
     "output_type": "stream",
     "text": [
      "1\n"
     ]
    }
   ],
   "source": [
    "input1 = [1,2,3,4,5,1,2]\n",
    "output = set()\n",
    "for i in input1:\n",
    "    if i in output:\n",
    "        print(i)\n",
    "        break\n",
    "    else:\n",
    "        output.add(i)"
   ]
  },
  {
   "cell_type": "markdown",
   "metadata": {},
   "source": [
    "# Question 8"
   ]
  },
  {
   "cell_type": "code",
   "execution_count": 46,
   "metadata": {},
   "outputs": [
    {
     "name": "stdout",
     "output_type": "stream",
     "text": [
      "{1: [1, 1], 2: [4, 8], 3: [9, 27], 4: [16, 64]}\n"
     ]
    }
   ],
   "source": [
    "input1 = 4\n",
    "output = {}\n",
    "for i in range(1, input1+1):\n",
    "    output[i] = [i*i, i*i*i]\n",
    "\n",
    "print(output)"
   ]
  },
  {
   "cell_type": "markdown",
   "metadata": {},
   "source": [
    "# Question 9\n"
   ]
  },
  {
   "cell_type": "code",
   "execution_count": 47,
   "metadata": {},
   "outputs": [
    {
     "name": "stdout",
     "output_type": "stream",
     "text": [
      "[(1, 'a'), (2, 'b'), (3, 'c'), (4, 'd')]\n"
     ]
    }
   ],
   "source": [
    "input1 = [1,2,3,4], ['a','b','c','d']\n",
    "output = list(zip(input1[0], input1[1]))\n",
    "print(output)"
   ]
  },
  {
   "cell_type": "markdown",
   "metadata": {},
   "source": [
    "# Question 10"
   ]
  },
  {
   "cell_type": "code",
   "execution_count": 48,
   "metadata": {},
   "outputs": [
    {
     "name": "stdout",
     "output_type": "stream",
     "text": [
      "[0, 1, 4, 9, 16, 25, 36]\n"
     ]
    }
   ],
   "source": [
    "input1 = 6\n",
    "output = [i*i for i in range(input1+1)]\n",
    "print(output)"
   ]
  },
  {
   "cell_type": "markdown",
   "metadata": {},
   "source": [
    "# Question 11"
   ]
  },
  {
   "cell_type": "code",
   "execution_count": 49,
   "metadata": {},
   "outputs": [
    {
     "name": "stdout",
     "output_type": "stream",
     "text": [
      "{0: 0, 1: 1, 2: 4, 3: 9, 4: 16, 5: 25, 6: 36}\n"
     ]
    }
   ],
   "source": [
    "input1 = 6\n",
    "output = {i:i*i for i in range(input1+1)}\n",
    "print(output)"
   ]
  },
  {
   "cell_type": "markdown",
   "metadata": {},
   "source": [
    "# Question 12\n",
    "Problem 12:\n",
    "Write a `class` such that :\n",
    "1. The initializer takes an arbitrary list of atomic values as input and saves it in an\n",
    "instance variable.\n",
    "2. Has a method called `apply` which has the following functionality:\n",
    "● Accepts a function as a parameter. You can use a lambda function.\n",
    "● Applies the function to the saved list and returns the output. The instance\n",
    "variable must not be modified.\n",
    "● If it fails `raise` an `Exception` with a custom error message. You can use `try`\n",
    "and `except` here."
   ]
  },
  {
   "cell_type": "code",
   "execution_count": 50,
   "metadata": {},
   "outputs": [
    {
     "name": "stdout",
     "output_type": "stream",
     "text": [
      "[3, 6, 9, 12, 15]\n",
      "\n",
      "An error occurred: 'int' object is not callable\n",
      "[]\n"
     ]
    }
   ],
   "source": [
    "class temp:\n",
    "    def __init__(self, list1):\n",
    "        self.list1 = list1\n",
    "\n",
    "    def apply(self, function):\n",
    "        try:\n",
    "            return list(map(function, self.list1))\n",
    "            \n",
    "        except (TypeError, ValueError) as e:\n",
    "            print(f\"An error occurred: {e}\")\n",
    "            return [] \n",
    "\n",
    "temp1 = temp([1, 2, 3, 4, 5])\n",
    "print(temp1.apply(lambda x: x * 3))\n",
    "print()\n",
    "\n",
    "temp2 = temp([1, 2, 3, 4, 5])\n",
    "print(temp1.apply(5))\n",
    "\n"
   ]
  },
  {
   "cell_type": "markdown",
   "metadata": {},
   "source": [
    "# Question 13\n",
    "Write a function that takes as input a list of words and upper-cases each word. Use\n",
    "`functools.map` in some capacity to solve this.\n",
    "Input : ['aa','bb','cd','e']\n",
    "Output : ['AA', 'BB', 'CD', 'E']"
   ]
  },
  {
   "cell_type": "code",
   "execution_count": 51,
   "metadata": {},
   "outputs": [
    {
     "name": "stdout",
     "output_type": "stream",
     "text": [
      "['AA', 'BB', 'CD', 'E']\n"
     ]
    }
   ],
   "source": [
    "def toUpper(string):\n",
    "    return string.upper()\n",
    "\n",
    "input1 = ['aa','bb','cd','e']\n",
    "output = list(map(toUpper, input1))\n",
    "print(output)"
   ]
  },
  {
   "cell_type": "markdown",
   "metadata": {},
   "source": [
    "# Question 14\n",
    "Write a function to find the product of all the numbers in a list using `functools.reduce` in\n",
    "some capacity.\n",
    "Input : [1,2,3,4,5]\n",
    "Output : 120"
   ]
  },
  {
   "cell_type": "code",
   "execution_count": 52,
   "metadata": {},
   "outputs": [
    {
     "name": "stdout",
     "output_type": "stream",
     "text": [
      "120\n"
     ]
    }
   ],
   "source": [
    "import functools\n",
    "input1 = [1,2,3,4,5]\n",
    "\n",
    "def multiply(x,y):\n",
    "    return x*y\n",
    "\n",
    "output = functools.reduce(multiply, input1)\n",
    "print(output)"
   ]
  }
 ],
 "metadata": {
  "kernelspec": {
   "display_name": "Python 3",
   "language": "python",
   "name": "python3"
  },
  "language_info": {
   "codemirror_mode": {
    "name": "ipython",
    "version": 3
   },
   "file_extension": ".py",
   "mimetype": "text/x-python",
   "name": "python",
   "nbconvert_exporter": "python",
   "pygments_lexer": "ipython3",
   "version": "3.12.4"
  }
 },
 "nbformat": 4,
 "nbformat_minor": 2
}
