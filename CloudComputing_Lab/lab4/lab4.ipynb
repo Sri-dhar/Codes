{
 "cells": [
  {
   "cell_type": "markdown",
   "metadata": {},
   "source": [
    "# Assignment 4\n",
    "\n",
    "Sridhar Tuli\n",
    "2201202"
   ]
  },
  {
   "cell_type": "markdown",
   "metadata": {},
   "source": [
    "Importing the boto libraries"
   ]
  },
  {
   "cell_type": "code",
   "execution_count": 1,
   "metadata": {},
   "outputs": [],
   "source": [
    "import boto3\n",
    "from botocore.exceptions import ClientError"
   ]
  },
  {
   "cell_type": "markdown",
   "metadata": {},
   "source": [
    "Launch an t2.micro Amazon Linux instance."
   ]
  },
  {
   "cell_type": "code",
   "execution_count": 4,
   "metadata": {},
   "outputs": [
    {
     "name": "stdout",
     "output_type": "stream",
     "text": [
      "Using existing security group with ID: sg-0cd3322356b953935\n",
      "Launched instance with ID: i-03f7fa67056b3fa71\n"
     ]
    }
   ],
   "source": [
    "ec2_client = boto3.client('ec2')\n",
    "\n",
    "instance_type = 't2.micro'\n",
    "ami_id = 'ami-02b49a24cfb95941c'  \n",
    "key_name = 'keypair-lab3-new'\n",
    "security_group_name = 'MySecurityGroup'\n",
    "description = 'Security group for allowing HTTP traffic on port 80'\n",
    "\n",
    "existing_groups = ec2_client.describe_security_groups(GroupNames=[security_group_name])\n",
    "if existing_groups['SecurityGroups']:\n",
    "    security_group_id = existing_groups['SecurityGroups'][0]['GroupId']\n",
    "    print(f'Using existing security group with ID: {security_group_id}')\n",
    "else:\n",
    "    response = ec2_client.create_security_group(GroupName=security_group_name, Description=description)\n",
    "    security_group_id = response['GroupId']\n",
    "    print(f'Created security group with ID: {security_group_id}')\n",
    "\n",
    "    ec2_client.authorize_security_group_ingress(\n",
    "        GroupId=security_group_id,\n",
    "        IpPermissions=[\n",
    "            {\n",
    "                'IpProtocol': 'tcp',\n",
    "                'FromPort': 80,\n",
    "                'ToPort': 80,\n",
    "                'IpRanges': [{'CidrIp': '0.0.0.0/0'}] \n",
    "            }\n",
    "        ]\n",
    "    )\n",
    "    print(f'Added rule to allow inbound traffic on port 80 to security group: {security_group_name}')\n",
    "\n",
    "response = ec2_client.run_instances(\n",
    "    ImageId=ami_id,\n",
    "    InstanceType=instance_type,\n",
    "    KeyName=key_name,\n",
    "    SecurityGroupIds=[security_group_id],\n",
    "    MinCount=1,\n",
    "    MaxCount=1\n",
    ")\n",
    "\n",
    "instance_id = response['Instances'][0]['InstanceId']\n",
    "print(f'Launched instance with ID: {instance_id}')\n"
   ]
  },
  {
   "cell_type": "markdown",
   "metadata": {},
   "source": [
    "Launch two more t2.micro Ubuntu instances."
   ]
  },
  {
   "cell_type": "code",
   "execution_count": 5,
   "metadata": {},
   "outputs": [
    {
     "name": "stdout",
     "output_type": "stream",
     "text": [
      "Launched instances with IDs: ['i-079b2b2042df48421', 'i-0a0821ec21236b1ff']\n"
     ]
    }
   ],
   "source": [
    "ec2_client = boto3.client('ec2')\n",
    "\n",
    "instance_type = 't2.micro'\n",
    "ami_id = 'ami-0522ab6e1ddcc7055' \n",
    "key_name = 'keypair-lab3-new'  \n",
    "\n",
    "response = ec2_client.run_instances(\n",
    "    ImageId=ami_id,\n",
    "    InstanceType=instance_type,\n",
    "    KeyName=key_name,\n",
    "    SecurityGroupIds=[security_group_id],\n",
    "    MinCount=2,\n",
    "    MaxCount=2\n",
    ")\n",
    "\n",
    "instance_ids = [instance['InstanceId'] for instance in response['Instances']]\n",
    "print(f'Launched instances with IDs: {instance_ids}')"
   ]
  },
  {
   "cell_type": "markdown",
   "metadata": {},
   "source": [
    "List all the running instances."
   ]
  },
  {
   "cell_type": "code",
   "execution_count": 6,
   "metadata": {},
   "outputs": [
    {
     "name": "stdout",
     "output_type": "stream",
     "text": [
      "Instance ID: i-0a0821ec21236b1ff\n",
      "Public IP Address: 13.201.89.68\n",
      "Instance Type: t2.micro\n",
      "AMI ID: ami-0522ab6e1ddcc7055\n",
      "State: running\n",
      "-------------------------------------------\n",
      "Instance ID: i-079b2b2042df48421\n",
      "Public IP Address: 35.154.61.143\n",
      "Instance Type: t2.micro\n",
      "AMI ID: ami-0522ab6e1ddcc7055\n",
      "State: running\n",
      "-------------------------------------------\n",
      "Instance ID: i-03f7fa67056b3fa71\n",
      "Public IP Address: 15.207.16.120\n",
      "Instance Type: t2.micro\n",
      "AMI ID: ami-02b49a24cfb95941c\n",
      "State: running\n",
      "-------------------------------------------\n"
     ]
    }
   ],
   "source": [
    "response = ec2_client.describe_instances()\n",
    "for reservation in response['Reservations']:\n",
    "    for instance in reservation['Instances']:\n",
    "        print(f\"Instance ID: {instance['InstanceId']}\")\n",
    "        print(f\"Public IP Address: {instance.get('PublicIpAddress', 'No public IP')}\")\n",
    "        print(f\"Instance Type: {instance['InstanceType']}\")\n",
    "        print(f\"AMI ID: {instance['ImageId']}\")\n",
    "        print(f\"State: {instance['State']['Name']}\")\n",
    "        print('-------------------------------------------')\n",
    "        \n",
    "        "
   ]
  },
  {
   "cell_type": "markdown",
   "metadata": {},
   "source": [
    "Check the health of the running instances."
   ]
  },
  {
   "cell_type": "code",
   "execution_count": 10,
   "metadata": {},
   "outputs": [
    {
     "name": "stdout",
     "output_type": "stream",
     "text": [
      "Instance ID: i-079b2b2042df48421\n",
      "  State: running\n",
      "  System Status: ok\n",
      "  Instance Health: ok\n",
      "\n",
      "Instance ID: i-03f7fa67056b3fa71\n",
      "  State: running\n",
      "  System Status: ok\n",
      "  Instance Health: ok\n",
      "\n",
      "Instance ID: i-0a0821ec21236b1ff\n",
      "  State: running\n",
      "  System Status: ok\n",
      "  Instance Health: ok\n",
      "\n"
     ]
    }
   ],
   "source": [
    "response = ec2_client.describe_instance_status(IncludeAllInstances=True)\n",
    "\n",
    "for instance_status in response['InstanceStatuses']:\n",
    "    instance_id = instance_status['InstanceId']\n",
    "    instance_state = instance_status['InstanceState']['Name']\n",
    "    system_status = instance_status['SystemStatus']['Status']\n",
    "    instance_health = instance_status['InstanceStatus']['Status']\n",
    "    \n",
    "    print(f'Instance ID: {instance_id}')\n",
    "    print(f'  State: {instance_state}')\n",
    "    print(f'  System Status: {system_status}')\n",
    "    print(f'  Instance Health: {instance_health}')\n",
    "    print('')\n",
    "\n",
    "if not response['InstanceStatuses']:\n",
    "    print('No instances found.')"
   ]
  },
  {
   "cell_type": "markdown",
   "metadata": {},
   "source": [
    "Host an http server in the t2.micro instance."
   ]
  },
  {
   "cell_type": "code",
   "execution_count": 2,
   "metadata": {},
   "outputs": [
    {
     "name": "stdout",
     "output_type": "stream",
     "text": [
      "Using existing security group with ID: sg-01ec5197f75519428\n",
      "Launched instance with ID: i-0afa68acbeca05bc7\n",
      "Waiting for the instance to be running...\n",
      "Instance Public IP: 3.110.155.129\n"
     ]
    }
   ],
   "source": [
    "ec2_client = boto3.client('ec2')\n",
    "\n",
    "instance_type = 't2.micro'\n",
    "ami_id = 'ami-02b49a24cfb95941c'\n",
    "key_name = 'keypair-lab3-new'\n",
    "security_group_name = 'HTTP-SecurityGroup'\n",
    "description = 'Security group for allowing HTTP traffic on port 80'\n",
    "\n",
    "try:\n",
    "    existing_groups = ec2_client.describe_security_groups(GroupNames=[security_group_name])\n",
    "    if existing_groups['SecurityGroups']:\n",
    "        security_group_id = existing_groups['SecurityGroups'][0]['GroupId']\n",
    "        print(f'Using existing security group with ID: {security_group_id}')\n",
    "except ClientError as e:\n",
    "    if 'InvalidGroup.NotFound' in str(e):\n",
    "        response = ec2_client.create_security_group(GroupName=security_group_name, Description=description)\n",
    "        security_group_id = response['GroupId']\n",
    "        print(f'Created security group with ID: {security_group_id}')\n",
    "\n",
    "        ec2_client.authorize_security_group_ingress(\n",
    "            GroupId=security_group_id,\n",
    "            IpPermissions=[\n",
    "                {\n",
    "                    'IpProtocol': 'tcp',\n",
    "                    'FromPort': 80,\n",
    "                    'ToPort': 80,\n",
    "                    'IpRanges': [{'CidrIp': '0.0.0.0/0'}] \n",
    "                }\n",
    "            ]\n",
    "        )\n",
    "        print(f'Added rule to allow inbound traffic on port 80 to security group: {security_group_name}')\n",
    "    else:\n",
    "        raise  \n",
    "\n",
    "user_data_script = '''#!/bin/bash\n",
    "sudo apt-get update\n",
    "sudo apt-get install -y apache2\n",
    "sudo systemctl start apache2\n",
    "sudo systemctl enable apache2\n",
    "echo \"<h1>Hello from EC2</h1>\" | sudo tee /var/www/html/index.html\n",
    "'''\n",
    "\n",
    "response = ec2_client.run_instances(\n",
    "    ImageId=ami_id,\n",
    "    InstanceType=instance_type,\n",
    "    KeyName=key_name,\n",
    "    SecurityGroupIds=[security_group_id],\n",
    "    MinCount=1,\n",
    "    MaxCount=1,\n",
    "    UserData=user_data_script\n",
    ")\n",
    "\n",
    "instance_id = response['Instances'][0]['InstanceId']\n",
    "print(f'Launched instance with ID: {instance_id}')\n",
    "\n",
    "print('Waiting for the instance to be running...')\n",
    "ec2_client.get_waiter('instance_running').wait(InstanceIds=[instance_id])\n",
    "\n",
    "instance_description = ec2_client.describe_instances(InstanceIds=[instance_id])\n",
    "instance_public_ip = instance_description['Reservations'][0]['Instances'][0]['PublicIpAddress']\n",
    "print(f'Instance Public IP: {instance_public_ip}')\n"
   ]
  },
  {
   "cell_type": "markdown",
   "metadata": {},
   "source": [
    "Stop the running instances.\n"
   ]
  },
  {
   "cell_type": "code",
   "execution_count": 3,
   "metadata": {},
   "outputs": [
    {
     "name": "stdout",
     "output_type": "stream",
     "text": [
      "Stopping instances: ['i-0afa68acbeca05bc7', 'i-0a0821ec21236b1ff', 'i-079b2b2042df48421', 'i-03f7fa67056b3fa71', 'i-0bc6cfb4e2d935d38']\n",
      "All instances have been stopped.\n"
     ]
    }
   ],
   "source": [
    "response = ec2_client.describe_instances(\n",
    "    Filters=[\n",
    "        {\n",
    "            'Name': 'instance-state-name',\n",
    "            'Values': ['running']\n",
    "        }\n",
    "    ]\n",
    ")\n",
    "\n",
    "instance_ids = [instance['InstanceId'] for reservation in response['Reservations'] for instance in reservation['Instances']]\n",
    "\n",
    "if instance_ids:\n",
    "    print(f'Stopping instances: {instance_ids}')\n",
    "    ec2_client.stop_instances(InstanceIds=instance_ids)\n",
    "    ec2_client.get_waiter('instance_stopped').wait(InstanceIds=instance_ids)\n",
    "    print('All instances have been stopped.')\n",
    "else:\n",
    "    print('No running instances found.')\n"
   ]
  },
  {
   "cell_type": "markdown",
   "metadata": {},
   "source": [
    "Terminate the running instances.\n"
   ]
  },
  {
   "cell_type": "code",
   "execution_count": 4,
   "metadata": {},
   "outputs": [
    {
     "name": "stdout",
     "output_type": "stream",
     "text": [
      "Terminating instances: ['i-0afa68acbeca05bc7', 'i-0a0821ec21236b1ff', 'i-079b2b2042df48421', 'i-03f7fa67056b3fa71', 'i-0bc6cfb4e2d935d38']\n",
      "All running instances have been terminated.\n"
     ]
    }
   ],
   "source": [
    "if instance_ids:\n",
    "    print(f'Terminating instances: {instance_ids}')\n",
    "    ec2_client.terminate_instances(InstanceIds=instance_ids)\n",
    "    ec2_client.get_waiter('instance_terminated').wait(InstanceIds=instance_ids)\n",
    "    print('All running instances have been terminated.')\n",
    "else:\n",
    "    print('No running instances found.')\n"
   ]
  }
 ],
 "metadata": {
  "kernelspec": {
   "display_name": "BotoEnv",
   "language": "python",
   "name": "python3"
  },
  "language_info": {
   "codemirror_mode": {
    "name": "ipython",
    "version": 3
   },
   "file_extension": ".py",
   "mimetype": "text/x-python",
   "name": "python",
   "nbconvert_exporter": "python",
   "pygments_lexer": "ipython3",
   "version": "3.12.5"
  }
 },
 "nbformat": 4,
 "nbformat_minor": 2
}
