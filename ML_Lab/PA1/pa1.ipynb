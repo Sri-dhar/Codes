{
 "cells": [
  {
   "cell_type": "markdown",
   "metadata": {},
   "source": [
    "# Libraries"
   ]
  },
  {
   "cell_type": "code",
   "execution_count": 3,
   "metadata": {},
   "outputs": [],
   "source": [
    "from PIL import Image\n",
    "import pandas as pd\n",
    "import numpy as np"
   ]
  },
  {
   "cell_type": "markdown",
   "metadata": {},
   "source": [
    "# Question 1"
   ]
  },
  {
   "cell_type": "code",
   "execution_count": 4,
   "metadata": {},
   "outputs": [
    {
     "name": "stdout",
     "output_type": "stream",
     "text": [
      "12\n",
      "\n",
      "468\n",
      "-222\n",
      "42435\n",
      "0.3565217391304348\n",
      "\n",
      "14\n",
      "14\n",
      "\n",
      "234\n",
      "\n"
     ]
    }
   ],
   "source": [
    "a = 12\n",
    "print(a)\n",
    "print()\n",
    "\n",
    "a = 123\n",
    "b = 345\n",
    "print(a+b)\n",
    "print(a-b)\n",
    "print(a*b)\n",
    "print(a/b)\n",
    "print()\n",
    "\n",
    "string1 = \"HelloHowAreYou\"\n",
    "print(string1.__len__())\n",
    "print(len(string1))\n",
    "print()\n",
    "\n",
    "string2 = \"234\"\n",
    "integer = int(string2)\n",
    "print(integer)\n",
    "print()\n",
    "\n"
   ]
  },
  {
   "cell_type": "markdown",
   "metadata": {},
   "source": [
    "# Question 2    "
   ]
  },
  {
   "cell_type": "code",
   "execution_count": 5,
   "metadata": {},
   "outputs": [
    {
     "name": "stdout",
     "output_type": "stream",
     "text": [
      "a's value 34256\n",
      "b's value 435\n"
     ]
    }
   ],
   "source": [
    "a = 435\n",
    "b = 34256\n",
    "a, b = b, a\n",
    "print(f\"a's value {a}\")\n",
    "print(f\"b's value {b}\")"
   ]
  },
  {
   "cell_type": "markdown",
   "metadata": {},
   "source": [
    "# Question 3"
   ]
  },
  {
   "cell_type": "code",
   "execution_count": 6,
   "metadata": {},
   "outputs": [
    {
     "name": "stdout",
     "output_type": "stream",
     "text": [
      "The first character is I\n",
      "The characters from 3rd to 5th are => m a\n",
      "The characters from 3rd index onward are => m a computer science student\n"
     ]
    }
   ],
   "source": [
    "stringg = \"I am a computer science student\"\n",
    "print(f\"The first character is {stringg[0]}\")\n",
    "print(f\"The characters from 3rd to 5th are => {stringg[3:6]}\")\n",
    "print(f\"The characters from 3rd index onward are => {stringg[3:]}\")"
   ]
  },
  {
   "cell_type": "markdown",
   "metadata": {},
   "source": [
    "# Question 4\n"
   ]
  },
  {
   "cell_type": "code",
   "execution_count": 7,
   "metadata": {},
   "outputs": [
    {
     "name": "stdout",
     "output_type": "stream",
     "text": [
      "[1, 2, 3, 4, 5, 6]\n",
      "items of list from index 3 onward => [4, 5, 6]\n",
      "items of the list after operations => [1, 2, 3, 100, 4, 5, 6, 8]\n",
      "the 3rd ,4th and 5th items of the list => [100, 4, 5]\n"
     ]
    }
   ],
   "source": [
    "list = [1, 2, 3, 4, 5, 6]\n",
    "print(list)\n",
    "\n",
    "print(f\"items of list from index 3 onward => {list[3:]}\")\n",
    "\n",
    "list.insert(3, 100)\n",
    "list.append(8)\n",
    "print(f\"items of the list after operations => {list}\")\n",
    "\n",
    "print(f\"the 3rd ,4th and 5th items of the list => {list[3:6]}\")"
   ]
  },
  {
   "cell_type": "markdown",
   "metadata": {},
   "source": [
    "# Question 5\n"
   ]
  },
  {
   "cell_type": "code",
   "execution_count": 8,
   "metadata": {},
   "outputs": [
    {
     "name": "stdout",
     "output_type": "stream",
     "text": [
      "list1 after extending => [1, 2, 3, 4, 5, 6]\n"
     ]
    }
   ],
   "source": [
    "list1 = [1, 2, 3]\n",
    "list2 = [4, 5, 6]\n",
    "list1.extend(list2)\n",
    "print(f\"list1 after extending => {list1}\")"
   ]
  },
  {
   "cell_type": "markdown",
   "metadata": {},
   "source": [
    "# Question 6"
   ]
  },
  {
   "cell_type": "code",
   "execution_count": 9,
   "metadata": {},
   "outputs": [
    {
     "name": "stdout",
     "output_type": "stream",
     "text": [
      "tuple => (1, '2', 3, [1, 2, 3, 4, 5, 6])\n",
      "New Tuple => ('programming', 'programming', 'programming')\n",
      "tuple3 => (1, 2, 3, 4, 5, 6, 7, 8, 9, 10)\n"
     ]
    }
   ],
   "source": [
    "tempList = list1.copy()\n",
    "tuple = (1, \"2\", 3, list1)\n",
    "print(f\"tuple => {tuple}\")\n",
    "\n",
    "newTuple = (\"programming\", \"programming\", \"programming\")\n",
    "print(f\"New Tuple => {newTuple}\")\n",
    "\n",
    "tuple1 = (1, 2, 3, 4, 5)\n",
    "tuple2 = (6, 7, 8, 9, 10)\n",
    "tuple3 = tuple1 + tuple2\n",
    "print(f\"tuple3 => {tuple3}\")"
   ]
  },
  {
   "cell_type": "markdown",
   "metadata": {},
   "source": [
    "# Question 7"
   ]
  },
  {
   "cell_type": "code",
   "execution_count": 10,
   "metadata": {},
   "outputs": [
    {
     "name": "stdout",
     "output_type": "stream",
     "text": [
      "person => {'first_name': 'John', 'last_name': 'Doe', 'age': 25, 'favorite_colors': ['blue', 'green'], 'active': True}\n",
      "Keys => dict_keys(['first_name', 'last_name', 'age', 'favorite_colors', 'active'])\n",
      "Values => dict_values(['John', 'Doe', 25, ['blue', 'green'], True])\n",
      "the 2nd key is => last_name\n"
     ]
    }
   ],
   "source": [
    "person = { 'first_name': 'John','last_name': 'Doe','age':25,'favorite_colors': ['blue', 'green'],'active': True}\n",
    "print(f\"person => {person}\")\n",
    "\n",
    "print(f\"Keys => {person.keys()}\")\n",
    "print(f\"Values => {person.values()}\")\n",
    "\n",
    "\n",
    "index = 0;\n",
    "for key in person.keys():\n",
    "    if index == 1:\n",
    "        print(f\"the 2nd key is => {key}\")\n",
    "    if index == 2:\n",
    "        break\n",
    "    index += 1\n"
   ]
  },
  {
   "cell_type": "markdown",
   "metadata": {},
   "source": [
    "# Question 8"
   ]
  },
  {
   "cell_type": "code",
   "execution_count": 11,
   "metadata": {},
   "outputs": [
    {
     "name": "stdout",
     "output_type": "stream",
     "text": [
      "inputVal => 45\n",
      "Odd\n"
     ]
    }
   ],
   "source": [
    "inputVal = int(input(\"Enter a number: \"))\n",
    "print(f\"inputVal => {inputVal}\")\n",
    "if inputVal%2 == 0:\n",
    "    print(\"Even\")\n",
    "else:\n",
    "    print(\"Odd\")"
   ]
  },
  {
   "cell_type": "markdown",
   "metadata": {},
   "source": [
    "# Question 9\n"
   ]
  },
  {
   "cell_type": "code",
   "execution_count": 12,
   "metadata": {},
   "outputs": [
    {
     "name": "stdout",
     "output_type": "stream",
     "text": [
      "1\n",
      "2\n",
      "3\n",
      "4\n",
      "5\n",
      "6\n"
     ]
    }
   ],
   "source": [
    "list1 = [1, 2, 3, 4, 5, 6]\n",
    "for item in list1:\n",
    "    print(item)"
   ]
  },
  {
   "cell_type": "markdown",
   "metadata": {},
   "source": [
    "# Question 10"
   ]
  },
  {
   "cell_type": "code",
   "execution_count": 13,
   "metadata": {},
   "outputs": [
    {
     "name": "stdout",
     "output_type": "stream",
     "text": [
      "uniqueList => [1, 2, 3, 4, 5, 6]\n",
      "uniqueList using set => [1, 2, 3, 4, 5, 6]\n"
     ]
    }
   ],
   "source": [
    "listWithDuplicates = [1, 2, 3, 4, 5, 6, 1, 2, 3, 4, 5]\n",
    "uniqueList = []\n",
    "for item in listWithDuplicates:\n",
    "    if item not in uniqueList:\n",
    "        uniqueList.append(item)\n",
    "\n",
    "print(f\"uniqueList => {uniqueList}\")\n",
    "\n",
    "uniqueSet = set(listWithDuplicates)\n",
    "uniqueList2 = []\n",
    "for item in uniqueSet:\n",
    "    uniqueList2.append(item)\n",
    "print(f\"uniqueList using set => {uniqueList2}\")"
   ]
  },
  {
   "cell_type": "markdown",
   "metadata": {},
   "source": [
    "# Question 11"
   ]
  },
  {
   "cell_type": "code",
   "execution_count": 14,
   "metadata": {},
   "outputs": [
    {
     "name": "stdout",
     "output_type": "stream",
     "text": [
      "listOfLists => [[1, 6, 7, 9], [7, 9, 3, 5], [4, 6, 8, 9]]\n",
      "Dimentions using numpy => 2\n",
      "Shape using numpy => (3, 4)\n",
      "Size using numpy => 12\n"
     ]
    }
   ],
   "source": [
    "listOfLists = [[1,6,7,9],[7,9,3,5],[4,6,8,9]]\n",
    "print(f\"listOfLists => {listOfLists}\")\n",
    "array = np.array(listOfLists)\n",
    "\n",
    "print(f\"Dimentions using numpy => {array.ndim}\")\n",
    "print(f\"Shape using numpy => {array.shape}\")\n",
    "print(f\"Size using numpy => {array.size}\")\n"
   ]
  },
  {
   "cell_type": "markdown",
   "metadata": {},
   "source": [
    "# Question 12"
   ]
  },
  {
   "cell_type": "code",
   "execution_count": 15,
   "metadata": {},
   "outputs": [
    {
     "name": "stdout",
     "output_type": "stream",
     "text": [
      "randArr1 => [99 41 56 44 85 52 55]\n",
      "randArr2 => [94 61 15 78 52 99 31]\n",
      "randConcat => [99 41 56 44 85 52 55 94 61 15 78 52 99 31]\n",
      "Sorted randArr1 => [41 44 52 55 56 85 99]\n",
      "Sorted randArr2 => [15 31 52 61 78 94 99]\n",
      "randArrAddition => [ 56  75 104 116 134 179 198]\n",
      "randArrSubtraction => [ 26  13   0  -6 -22  -9   0]\n",
      "randArrMultiplication => [ 615 1364 2704 3355 4368 7990 9801]\n",
      "randArrDivision => [2.73333333 1.41935484 1.         0.90163934 0.71794872 0.90425532\n",
      " 1.        ]\n"
     ]
    }
   ],
   "source": [
    "size = np.random.randint(1, 10)\n",
    "randArr1 = np.random.randint(1, 100, size)\n",
    "randArr2 = np.random.randint(1, 100, size)\n",
    "print(f\"randArr1 => {randArr1}\")\n",
    "print(f\"randArr2 => {randArr2}\")\n",
    "\n",
    "randConcat = np.concatenate((randArr1, randArr2))\n",
    "randArr1.sort()\n",
    "randArr2.sort()\n",
    "randArrAddition = randArr1 + randArr2\n",
    "randArrSubtraction = randArr1 - randArr2\n",
    "randArrMultiplication = randArr1 * randArr2\n",
    "randArrDivision = randArr1 / randArr2\n",
    "\n",
    "print(f\"randConcat => {randConcat}\")\n",
    "print(f\"Sorted randArr1 => {randArr1}\")\n",
    "print(f\"Sorted randArr2 => {randArr2}\")\n",
    "print(f\"randArrAddition => {randArrAddition}\")\n",
    "print(f\"randArrSubtraction => {randArrSubtraction}\")\n",
    "print(f\"randArrMultiplication => {randArrMultiplication}\")\n",
    "print(f\"randArrDivision => {randArrDivision}\")\n",
    "\n",
    "\n"
   ]
  },
  {
   "cell_type": "markdown",
   "metadata": {},
   "source": [
    "# Question 13"
   ]
  },
  {
   "cell_type": "code",
   "execution_count": 16,
   "metadata": {},
   "outputs": [
    {
     "name": "stdout",
     "output_type": "stream",
     "text": [
      "matrix => \n",
      " [[4 4 9 6 6]\n",
      " [6 6 7 1 2]\n",
      " [4 7 2 2 7]\n",
      " [1 3 3 2 1]]\n",
      "\n",
      "matrixTranspose =>\n",
      "[[4 6 4 1]\n",
      " [4 6 7 3]\n",
      " [9 7 2 3]\n",
      " [6 1 2 2]\n",
      " [6 2 7 1]]\n",
      "arrOfOnes =>\n",
      "[1. 1. 1. 1. 1. 1. 1. 1. 1. 1.]\n",
      "arrOfZeros =>\n",
      "[0. 0. 0. 0. 0. 0. 0. 0. 0. 0.]\n",
      "arrOfFives =>\n",
      "[5 5 5 5 5 5 5 5 5 5]\n",
      "\n",
      "Random Number between 0 and 1 is : 0.355\n",
      "Loaded Matrix : \n",
      "[[4 4 9 6 6]\n",
      " [6 6 7 1 2]\n",
      " [4 7 2 2 7]\n",
      " [1 3 3 2 1]]\n"
     ]
    }
   ],
   "source": [
    "matrix = np.random.randint(1, 10, (4, 5))\n",
    "print(f\"matrix => \\n {matrix}\\n\")\n",
    "\n",
    "matrixTranspose = matrix.T\n",
    "print(f\"matrixTranspose =>\\n{matrixTranspose}\")\n",
    "\n",
    "arrOfOnes = np.ones(10)\n",
    "arrOfZeros = np.zeros(10)\n",
    "arrOfFives = np.full(10, 5)\n",
    "print(f\"arrOfOnes =>\\n{arrOfOnes}\")\n",
    "print(f\"arrOfZeros =>\\n{arrOfZeros}\")\n",
    "print(f\"arrOfFives =>\\n{arrOfFives}\")\n",
    "\n",
    "print(f\"\\nRandom Number between 0 and 1 is : {np.round(np.random.rand(), 3)}\")\n",
    "\n",
    "np.savetxt(\"matrix.txt\", matrix, fmt='%d')\n",
    "loadedMatrix = np.loadtxt(\"matrix.txt\", dtype=int)\n",
    "print(f\"Loaded Matrix : \\n{loadedMatrix}\")\n"
   ]
  },
  {
   "cell_type": "markdown",
   "metadata": {},
   "source": [
    "## Question 14\n",
    "Create a random matrix of 10 x 5 (where columns are the features and rows are the\n",
    "patterns) and find the maximum and minimum values from each feature."
   ]
  },
  {
   "cell_type": "code",
   "execution_count": 17,
   "metadata": {},
   "outputs": [
    {
     "name": "stdout",
     "output_type": "stream",
     "text": [
      "matrix => \n",
      " [[11 17 12 16  2]\n",
      " [ 2 21  5 10 16]\n",
      " [16  4 18 19 22]\n",
      " [17 29 24 18  7]\n",
      " [15 25 20  6 23]\n",
      " [19 21 22 25  6]\n",
      " [24 17 19 12 18]\n",
      " [17 24 16  3 17]\n",
      " [29 15 13 14 16]\n",
      " [15 17 25 11 24]]\n",
      "\n",
      "maxOfColumns => [29 29 25 25 24]\n",
      "minOfColumns => [2 4 5 3 2]\n"
     ]
    }
   ],
   "source": [
    "matrix = np.random.randint(1, 30, (10, 5))\n",
    "print(f\"matrix => \\n {matrix}\\n\")\n",
    "\n",
    "maxOfColumns = np.max(matrix, axis=0)\n",
    "minOfColumns = np.min(matrix, axis=0)\n",
    "print(f\"maxOfColumns => {maxOfColumns}\")\n",
    "print(f\"minOfColumns => {minOfColumns}\")"
   ]
  },
  {
   "cell_type": "markdown",
   "metadata": {},
   "source": [
    "## Question 15\n",
    "Create a random matrix of size 10 x 5 (where columns are the features and rows are the\n",
    "patterns) and find the number of patterns having the same ith feature (i=1,2,...number of\n",
    "features)."
   ]
  },
  {
   "cell_type": "code",
   "execution_count": 18,
   "metadata": {},
   "outputs": [
    {
     "name": "stdout",
     "output_type": "stream",
     "text": [
      "matrix => \n",
      " [[ 4 24 10 27 10]\n",
      " [19 11 18  3  3]\n",
      " [ 6 26  6 26  2]\n",
      " [16 25  7 27  9]\n",
      " [23 17 29  8  6]\n",
      " [ 1 16  7  5 17]\n",
      " [13 13 23 23 12]\n",
      " [28 18  1 21 19]\n",
      " [29 14 21 23 17]\n",
      " [ 5 27  6  6  8]]\n",
      "\n",
      "\n",
      "Feature 1:\n",
      "Value 1 occurs 1 times\n",
      "Value 4 occurs 1 times\n",
      "Value 5 occurs 1 times\n",
      "Value 6 occurs 1 times\n",
      "Value 13 occurs 1 times\n",
      "Value 16 occurs 1 times\n",
      "Value 19 occurs 1 times\n",
      "Value 23 occurs 1 times\n",
      "Value 28 occurs 1 times\n",
      "Value 29 occurs 1 times\n",
      "\n",
      "Feature 2:\n",
      "Value 11 occurs 1 times\n",
      "Value 13 occurs 1 times\n",
      "Value 14 occurs 1 times\n",
      "Value 16 occurs 1 times\n",
      "Value 17 occurs 1 times\n",
      "Value 18 occurs 1 times\n",
      "Value 24 occurs 1 times\n",
      "Value 25 occurs 1 times\n",
      "Value 26 occurs 1 times\n",
      "Value 27 occurs 1 times\n",
      "\n",
      "Feature 3:\n",
      "Value 1 occurs 1 times\n",
      "Value 6 occurs 2 times\n",
      "Value 7 occurs 2 times\n",
      "Value 10 occurs 1 times\n",
      "Value 18 occurs 1 times\n",
      "Value 21 occurs 1 times\n",
      "Value 23 occurs 1 times\n",
      "Value 29 occurs 1 times\n",
      "\n",
      "Feature 4:\n",
      "Value 3 occurs 1 times\n",
      "Value 5 occurs 1 times\n",
      "Value 6 occurs 1 times\n",
      "Value 8 occurs 1 times\n",
      "Value 21 occurs 1 times\n",
      "Value 23 occurs 2 times\n",
      "Value 26 occurs 1 times\n",
      "Value 27 occurs 2 times\n",
      "\n",
      "Feature 5:\n",
      "Value 2 occurs 1 times\n",
      "Value 3 occurs 1 times\n",
      "Value 6 occurs 1 times\n",
      "Value 8 occurs 1 times\n",
      "Value 9 occurs 1 times\n",
      "Value 10 occurs 1 times\n",
      "Value 12 occurs 1 times\n",
      "Value 17 occurs 2 times\n",
      "Value 19 occurs 1 times\n"
     ]
    }
   ],
   "source": [
    "matrix = np.random.randint(1, 30, (10, 5))\n",
    "print(f\"matrix => \\n {matrix}\\n\")\n",
    "\n",
    "num_features = matrix.shape[1]\n",
    "\n",
    "for i in range(num_features):\n",
    "    column = matrix[:, i]\n",
    "    unique, counts = np.unique(column, return_counts=True)\n",
    "    print(f\"\\nFeature {i+1}:\")\n",
    "    for value, count in zip(unique, counts):\n",
    "        print(f\"Value {value} occurs {count} times\")\n",
    "\n",
    "    "
   ]
  },
  {
   "cell_type": "markdown",
   "metadata": {},
   "source": [
    "## Question 16\n",
    "Write a python program to read an image and save the image as a matrix to a .csv file\n",
    "using pandas."
   ]
  },
  {
   "cell_type": "code",
   "execution_count": 19,
   "metadata": {},
   "outputs": [
    {
     "name": "stdout",
     "output_type": "stream",
     "text": [
      "RGB image saved as matrix to 'image_rgb_matrix.csv'\n"
     ]
    }
   ],
   "source": [
    "image = Image.open('/home/solomons/Codes/ML_Lab/PA1/image.jpg')\n",
    "image = image.convert('RGB')\n",
    "image_matrix = np.array(image)\n",
    "reshaped_matrix = image_matrix.reshape(-1, 3)\n",
    "df = pd.DataFrame(reshaped_matrix, columns=['Red', 'Green', 'Blue'])\n",
    "df.to_csv('image_rgb_matrix.csv', index=False)\n",
    "\n",
    "print(\"RGB image saved as matrix to 'image_rgb_matrix.csv'\")\n"
   ]
  },
  {
   "cell_type": "markdown",
   "metadata": {},
   "source": [
    "## Question 17\n",
    "Write a program to import excel data from the .csv file (generated in question 16) by\n",
    "excluding the last row and last column."
   ]
  },
  {
   "cell_type": "code",
   "execution_count": 20,
   "metadata": {},
   "outputs": [
    {
     "name": "stdout",
     "output_type": "stream",
     "text": [
      "Image Matrix from csv => [[204 215]\n",
      " [202 213]\n",
      " [201 210]\n",
      " ...\n",
      " [186 201]\n",
      " [186 201]\n",
      " [190 205]]\n"
     ]
    }
   ],
   "source": [
    "data = pd.read_csv('image_rgb_matrix.csv')\n",
    "data = data.iloc[:-1, :-1]\n",
    "image_matrix = data.to_numpy()\n",
    "print(f\"Image Matrix from csv => {image_matrix}\")"
   ]
  },
  {
   "cell_type": "markdown",
   "metadata": {},
   "source": [
    "## Question 18\n",
    "Write a Pandas program to create today's date."
   ]
  },
  {
   "cell_type": "code",
   "execution_count": 21,
   "metadata": {},
   "outputs": [
    {
     "name": "stdout",
     "output_type": "stream",
     "text": [
      "2024-08-01\n"
     ]
    }
   ],
   "source": [
    "print(pd.to_datetime('today').date())"
   ]
  },
  {
   "cell_type": "markdown",
   "metadata": {},
   "source": [
    "## Question 19\n",
    "Write a python program to read the dataset and print the number of\n",
    "features, number of patterns, range of output available in the dataset. Write a program to\n",
    "randomly split the dataset in X:Y ratio. Here, the values of X and Y are as follows (X+Y =\n",
    "100% always):\n",
    "\n",
    "a. X = 10:10:90 (i.e., initial: 10%, increment by 10%, maximum is 90%)\n",
    "b. Y = 90:10:10 (i.e., initial: 90%, decrement by 10%, minimum is 10%)"
   ]
  },
  {
   "cell_type": "code",
   "execution_count": 22,
   "metadata": {},
   "outputs": [
    {
     "name": "stdout",
     "output_type": "stream",
     "text": [
      "Number of Features : 2\n",
      "Number of Patterns : 30\n",
      "Range of Output : (np.float64(37731.0), np.float64(122391.0))\n",
      "Train Data Size : 3\n",
      "Test Data Size : 27\n",
      "\n",
      "Train Data Size : 6\n",
      "Test Data Size : 24\n",
      "\n",
      "Train Data Size : 9\n",
      "Test Data Size : 21\n",
      "\n",
      "Train Data Size : 12\n",
      "Test Data Size : 18\n",
      "\n",
      "Train Data Size : 15\n",
      "Test Data Size : 15\n",
      "\n",
      "Train Data Size : 18\n",
      "Test Data Size : 12\n",
      "\n",
      "Train Data Size : 21\n",
      "Test Data Size : 9\n",
      "\n",
      "Train Data Size : 24\n",
      "Test Data Size : 6\n",
      "\n",
      "Train Data Size : 27\n",
      "Test Data Size : 3\n",
      "\n"
     ]
    }
   ],
   "source": [
    "data = pd.read_csv('salary_data.csv')\n",
    "data = data.to_numpy()\n",
    "\n",
    "num_features = data.shape[1]\n",
    "num_patterns = data.shape[0]\n",
    "print(f\"Number of Features : {num_features}\")\n",
    "print(f\"Number of Patterns : {num_patterns}\")\n",
    "\n",
    "output_column = data[:, -1]\n",
    "output_range = (np.min(output_column), np.max(output_column))\n",
    "print(f\"Range of Output : {output_range}\")\n",
    "\n",
    "def splitter(data, x, y):\n",
    "    size = data.shape[0]\n",
    "    train_size = int(size * x)\n",
    "    test_size = int(size * y)\n",
    "    train_data = data[:train_size, :]\n",
    "    test_data = data[train_size:train_size+test_size, :]\n",
    "    return train_data, test_data\n",
    "\n",
    "for i in range(1, 10):\n",
    "    train_data, test_data = splitter(data, 0.1*i, 0.1*(10-i))\n",
    "    print(f\"Train Data Size : {train_data.shape[0]}\")\n",
    "    print(f\"Test Data Size : {test_data.shape[0]}\")\n",
    "    print()\n"
   ]
  },
  {
   "cell_type": "markdown",
   "metadata": {},
   "source": [
    "## Question 20\n",
    "Write a program to calculate the row-wise,column-wise, and overall mean, median, mode,\n",
    "and standard deviation of the dataset.\n"
   ]
  },
  {
   "cell_type": "code",
   "execution_count": 23,
   "metadata": {},
   "outputs": [
    {
     "name": "stdout",
     "output_type": "stream",
     "text": [
      "Row-wise Mean: 19672.05, 23103.15, 18866.25, 21763.50, 19946.60, 28322.45, 30076.50, 27224.10, 32224.10, 28596.35, 31610.95, 27899.00, 28480.50, 28542.55, 30557.75, 33971.45, 33017.05, 41546.65, 40684.45, 46973.00, 45872.40, 49140.05, 50654.95, 56910.10, 54719.85, 52795.50, 58489.25, 56322.30, 61200.65, 60941.25\n",
      "Column-wise Mean: 5.31, 76003.00\n",
      "Overall Mean: 38004.16\n",
      "Row-wise Median: 19672.05, 23103.15, 18866.25, 21763.50, 19946.60, 28322.45, 30076.50, 27224.10, 32224.10, 28596.35, 31610.95, 27899.00, 28480.50, 28542.55, 30557.75, 33971.45, 33017.05, 41546.65, 40684.45, 46973.00, 45872.40, 49140.05, 50654.95, 56910.10, 54719.85, 52795.50, 58489.25, 56322.30, 61200.65, 60941.25\n",
      "Column-wise Median: 4.70, 65237.00\n",
      "Overall Median: 18870.75\n",
      "Row-wise Standard Deviation: 19670.95, 23101.85, 18864.75, 21761.50, 19944.40, 28319.55, 30073.50, 27220.90, 32220.90, 28592.65, 31607.05, 27895.00, 28476.50, 28538.45, 30553.25, 33966.55, 33011.95, 41541.35, 40678.55, 46967.00, 45865.60, 49132.95, 50647.05, 56901.90, 54711.15, 52786.50, 58479.75, 56312.70, 61190.35, 60930.75\n",
      "Column-wise Standard Deviation: 2.79, 26953.65\n",
      "Overall Standard Deviation: 42510.72\n",
      "Row-wise Mode: 1.10, 1.30, 1.50, 2.00, 2.20, 2.90, 3.00, 3.20, 3.20, 3.70, 3.90, 4.00, 4.00, 4.10, 4.50, 4.90, 5.10, 5.30, 5.90, 6.00, 6.80, 7.10, 7.90, 8.20, 8.70, 9.00, 9.50, 9.60, 10.30, 10.50\n",
      "Column-wise Mode: 3.20, 37731.00\n",
      "Overall Mode: 3.20\n"
     ]
    }
   ],
   "source": [
    "def row_wise_mode_fn():\n",
    "    mode = []\n",
    "    for row in data:\n",
    "        unique, counts = np.unique(row, return_counts=True)\n",
    "        mode.append(unique[np.argmax(counts)])\n",
    "    return mode\n",
    "\n",
    "def column_wise_mode_fn():\n",
    "    mode = []\n",
    "    for i in range(data.shape[1]):\n",
    "        column = data[:, i]\n",
    "        unique, counts = np.unique(column, return_counts=True)\n",
    "        mode.append(unique[np.argmax(counts)])\n",
    "    return mode\n",
    "\n",
    "def overall_mode_fn():\n",
    "    mode = []\n",
    "    for i in range(data.shape[1]):\n",
    "        column = data[:, i]\n",
    "        unique, counts = np.unique(column, return_counts=True)\n",
    "        mode.append(unique[np.argmax(counts)])\n",
    "    unique, counts = np.unique(mode, return_counts=True)\n",
    "    return unique[np.argmax(counts)]\n",
    "\n",
    "row_wise_mean = np.mean(data, axis=1)\n",
    "column_wise_mean = np.mean(data, axis=0)\n",
    "overall_mean = np.mean(data)\n",
    "\n",
    "row_wise_median = np.median(data, axis=1)\n",
    "column_wise_median = np.median(data, axis=0)\n",
    "overall_median = np.median(data)\n",
    "\n",
    "row_wise_std = np.std(data, axis=1)\n",
    "column_wise_std = np.std(data, axis=0)\n",
    "overall_std = np.std(data)\n",
    "\n",
    "row_wise_mode = row_wise_mode_fn()\n",
    "column_wise_mode = column_wise_mode_fn()\n",
    "overall_mode = overall_mode_fn()\n",
    "\n",
    "print(f\"Row-wise Mean: {', '.join(f'{val:.2f}' for val in row_wise_mean)}\")\n",
    "print(f\"Column-wise Mean: {', '.join(f'{val:.2f}' for val in column_wise_mean)}\")\n",
    "print(f\"Overall Mean: {overall_mean:.2f}\")\n",
    "\n",
    "print(f\"Row-wise Median: {', '.join(f'{val:.2f}' for val in row_wise_median)}\")\n",
    "print(f\"Column-wise Median: {', '.join(f'{val:.2f}' for val in column_wise_median)}\")\n",
    "print(f\"Overall Median: {overall_median:.2f}\")\n",
    "\n",
    "print(f\"Row-wise Standard Deviation: {', '.join(f'{val:.2f}' for val in row_wise_std)}\")\n",
    "print(f\"Column-wise Standard Deviation: {', '.join(f'{val:.2f}' for val in column_wise_std)}\")\n",
    "print(f\"Overall Standard Deviation: {overall_std:.2f}\")\n",
    "\n",
    "print(f\"Row-wise Mode: {', '.join(f'{val:.2f}' for val in row_wise_mode)}\")\n",
    "print(f\"Column-wise Mode: {', '.join(f'{val:.2f}' for val in column_wise_mode)}\")\n",
    "print(f\"Overall Mode: {overall_mode:.2f}\")"
   ]
  }
 ],
 "metadata": {
  "kernelspec": {
   "display_name": "Python 3",
   "language": "python",
   "name": "python3"
  },
  "language_info": {
   "codemirror_mode": {
    "name": "ipython",
    "version": 3
   },
   "file_extension": ".py",
   "mimetype": "text/x-python",
   "name": "python",
   "nbconvert_exporter": "python",
   "pygments_lexer": "ipython3",
   "version": "3.12.4"
  }
 },
 "nbformat": 4,
 "nbformat_minor": 2
}
