{
 "cells": [
  {
   "cell_type": "markdown",
   "metadata": {},
   "source": [
    "Import Libraries and Generate Data\n"
   ]
  },
  {
   "cell_type": "code",
   "execution_count": 21,
   "metadata": {},
   "outputs": [
    {
     "name": "stdout",
     "output_type": "stream",
     "text": [
      "Shuffled x: [ 8  4 10  1  7  5  3  6  9  2]\n",
      "Shuffled y: [15  8 20  2 14 10  6 12 16  4]\n"
     ]
    }
   ],
   "source": [
    "import numpy as np\n",
    "import pandas as pd\n",
    "\n",
    "data = pd.read_csv('data.csv')\n",
    "x = data['x'].values\n",
    "y = data['y'].values\n",
    "\n",
    "x = np.array(x)\n",
    "y = np.array(y)\n",
    "\n",
    "indices = np.random.permutation(len(x))\n",
    "x_shuffled = x[indices]\n",
    "y_shuffled = y[indices]\n",
    "\n",
    "print(\"Shuffled x:\", x_shuffled)\n",
    "print(\"Shuffled y:\", y_shuffled)\n"
   ]
  },
  {
   "cell_type": "markdown",
   "metadata": {},
   "source": [
    "Split the Data into Training, Validation, and Test Sets"
   ]
  },
  {
   "cell_type": "code",
   "execution_count": 22,
   "metadata": {},
   "outputs": [
    {
     "name": "stdout",
     "output_type": "stream",
     "text": [
      "Training data: [[1 1]\n",
      " [1 2]\n",
      " [1 3]\n",
      " [1 4]\n",
      " [1 5]\n",
      " [1 6]]\n",
      "Training labels: [ 2  4  6  8 10 12]\n",
      "Validation data: [[1 7]\n",
      " [1 8]]\n",
      "Validation labels: [14 15]\n",
      "Test data: [[ 1  9]\n",
      " [ 1 10]]\n",
      "Test labels: [16 20]\n"
     ]
    }
   ],
   "source": [
    "train_size = 0.6\n",
    "val_size = 0.2\n",
    "test_size = 0.2\n",
    "\n",
    "train_idx = int(len(x) * train_size)\n",
    "val_idx = int(len(x) * (train_size + val_size))\n",
    "\n",
    "X_train = np.array([[1, xi] for xi in x[:train_idx]])\n",
    "y_train = y[:train_idx]\n",
    "X_val = np.array([[1, xi] for xi in x[train_idx:val_idx]])\n",
    "y_val = y[train_idx:val_idx]\n",
    "X_test = np.array([[1, xi] for xi in x[val_idx:]])\n",
    "y_test = y[val_idx:]\n",
    "\n",
    "print(f\"Training data: {X_train}\")\n",
    "print(f\"Training labels: {y_train}\")\n",
    "print(f\"Validation data: {X_val}\")\n",
    "print(f\"Validation labels: {y_val}\")\n",
    "print(f\"Test data: {X_test}\")\n",
    "print(f\"Test labels: {y_test}\")\n"
   ]
  },
  {
   "cell_type": "markdown",
   "metadata": {},
   "source": [
    " Define Cost Function and Gradient Descent\n",
    " "
   ]
  },
  {
   "cell_type": "code",
   "execution_count": 23,
   "metadata": {},
   "outputs": [],
   "source": [
    "def compute_cost(X, y, theta):\n",
    "    m = len(y)\n",
    "    h = X.dot(theta)\n",
    "    J = np.sum((h - y) ** 2) / (2 * m)\n",
    "    return J\n",
    "\n",
    "def gradient_descent(X, y, alpha, epochs):\n",
    "    m = len(y)\n",
    "    theta = np.zeros(X.shape[1])\n",
    "    costs = []\n",
    "\n",
    "    for i in range(epochs):\n",
    "        h = X.dot(theta)\n",
    "        theta = theta - (alpha / m) * X.T.dot(h - y)\n",
    "        cost = compute_cost(X, y, theta)\n",
    "        costs.append(cost)\n",
    "\n",
    "    return theta, costs\n"
   ]
  },
  {
   "cell_type": "markdown",
   "metadata": {},
   "source": [
    "Hyperparameter Tuning for Learning Rate"
   ]
  },
  {
   "cell_type": "code",
   "execution_count": 24,
   "metadata": {},
   "outputs": [
    {
     "name": "stdout",
     "output_type": "stream",
     "text": [
      "Validation error for alpha=0.001: 0.13\n",
      "Validation error for alpha=0.010: 0.22\n",
      "Validation error for alpha=0.100: 0.25\n",
      "Validation error for alpha=1.000: nan\n",
      "Best alpha: 0.001\n",
      "Best validation error: 0.13\n"
     ]
    },
    {
     "name": "stderr",
     "output_type": "stream",
     "text": [
      "/tmp/ipykernel_266266/1042843360.py:4: RuntimeWarning: overflow encountered in square\n",
      "  J = np.sum((h - y) ** 2) / (2 * m)\n",
      "/tmp/ipykernel_266266/1042843360.py:14: RuntimeWarning: invalid value encountered in subtract\n",
      "  theta = theta - (alpha / m) * X.T.dot(h - y)\n"
     ]
    }
   ],
   "source": [
    "best_alpha = None\n",
    "best_val_error = float('inf')\n",
    "epochs = 1000    \n",
    "\n",
    "for temp_alpha in [0.001, 0.01, 0.1, 1.0]:\n",
    "    theta, cost_history = gradient_descent(X_train, y_train, temp_alpha, epochs)\n",
    "    h_val = X_val.dot(theta)\n",
    "    val_error = np.sum((h_val - y_val) ** 2) / (2 * len(y_val))     \n",
    "    print(f\"Validation error for alpha={temp_alpha:.3f}: {val_error:.2f}\")\n",
    "\n",
    "    if val_error < best_val_error:\n",
    "        best_alpha = temp_alpha\n",
    "        best_val_error = val_error\n",
    "\n",
    "print(f\"Best alpha: {best_alpha:.3f}\")\n",
    "print(f\"Best validation error: {best_val_error:.2f}\")\n"
   ]
  },
  {
   "cell_type": "markdown",
   "metadata": {},
   "source": [
    "Testing the accuracy of model on Validation Set\n"
   ]
  },
  {
   "cell_type": "code",
   "execution_count": 27,
   "metadata": {},
   "outputs": [
    {
     "name": "stdout",
     "output_type": "stream",
     "text": [
      "Validation error: 0.13\n"
     ]
    }
   ],
   "source": [
    "    theta, cost_history = gradient_descent(X_train, y_train, best_alpha, epochs)\n",
    "h_val = X_val.dot(theta)\n",
    "val_error = np.sum((h_val - y_val) ** 2) / (2 * len(y_val))\n",
    "print(f\"Validation error: {val_error:.2f}\")\n"
   ]
  },
  {
   "cell_type": "markdown",
   "metadata": {},
   "source": [
    "Train with Best Alpha and Evaluate on Test Set"
   ]
  },
  {
   "cell_type": "code",
   "execution_count": 25,
   "metadata": {},
   "outputs": [
    {
     "name": "stdout",
     "output_type": "stream",
     "text": [
      "Theta: [0.36909637 1.91378647]\n",
      "The predicted equation is : y = 0.37 + 1.91x\n",
      "Test error: 0.70\n"
     ]
    }
   ],
   "source": [
    "theta, cost_history = gradient_descent(X_train, y_train, best_alpha, epochs)\n",
    "print(\"Theta:\", theta)\n",
    "\n",
    "print(f\"The predicted equation is : y = {theta[0]:.2f} + {theta[1]:.2f}x\")\n",
    "\n",
    "h_test = X_test.dot(theta)\n",
    "test_error = np.sum((h_test - y_test) ** 2) / (2 * len(y_test))\n",
    "print(f\"Test error: {test_error:.2f}\")\n"
   ]
  }
 ],
 "metadata": {
  "kernelspec": {
   "display_name": ".venv",
   "language": "python",
   "name": "python3"
  },
  "language_info": {
   "codemirror_mode": {
    "name": "ipython",
    "version": 3
   },
   "file_extension": ".py",
   "mimetype": "text/x-python",
   "name": "python",
   "nbconvert_exporter": "python",
   "pygments_lexer": "ipython3",
   "version": "3.12.5"
  }
 },
 "nbformat": 4,
 "nbformat_minor": 2
}
