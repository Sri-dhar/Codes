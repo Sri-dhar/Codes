{
 "cells": [
  {
   "cell_type": "code",
   "execution_count": null,
   "id": "5f4d8ef8-0564-46d8-90e5-319bc0149ad5",
   "metadata": {},
   "outputs": [],
   "source": [
    "this is code section\n"
   ]
  },
  {
   "cell_type": "code",
   "execution_count": null,
   "id": "c01243e4-de76-413e-bbed-da6bc5aa4ee0",
   "metadata": {},
   "outputs": [],
   "source": []
  },
  {
   "cell_type": "code",
   "execution_count": 1,
   "id": "40f71e21-3bd8-4853-a9d1-4b2badf53b70",
   "metadata": {},
   "outputs": [
    {
     "name": "stdout",
     "output_type": "stream",
     "text": [
      "HEllo\n",
      "World\n"
     ]
    }
   ],
   "source": [
    "print(\"HEllo\")\n",
    "print(\"World\")"
   ]
  },
  {
   "cell_type": "code",
   "execution_count": 2,
   "id": "3eafe751-c878-4113-9b72-60afacfbf822",
   "metadata": {},
   "outputs": [
    {
     "name": "stdout",
     "output_type": "stream",
     "text": [
      "hkh\n"
     ]
    }
   ],
   "source": [
    "print(input(\"Hello what is your name\"))"
   ]
  },
  {
   "cell_type": "code",
   "execution_count": null,
   "id": "7e22ba0c-42d5-4fb8-9c82-51276b6ee166",
   "metadata": {},
   "outputs": [],
   "source": []
  }
 ],
 "metadata": {
  "kernelspec": {
   "display_name": "Python 3 (ipykernel)",
   "language": "python",
   "name": "python3"
  },
  "language_info": {
   "codemirror_mode": {
    "name": "ipython",
    "version": 3
   },
   "file_extension": ".py",
   "mimetype": "text/x-python",
   "name": "python",
   "nbconvert_exporter": "python",
   "pygments_lexer": "ipython3",
   "version": "3.11.6"
  }
 },
 "nbformat": 4,
 "nbformat_minor": 5
}
